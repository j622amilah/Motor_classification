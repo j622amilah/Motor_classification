{
 "cells": [
  {
   "cell_type": "code",
   "execution_count": 25,
   "id": "2be1df19",
   "metadata": {},
   "outputs": [
    {
     "name": "stderr",
     "output_type": "stream",
     "text": [
      "C:\\Users\\jamilah\\Documents\\Github_analysis_PROJECTS\\Motor_classification\\c_calculate_metrics\\put_scalar_trialdata_into_pandas.py:47: VisibleDeprecationWarning: Creating an ndarray from ragged nested sequences (which is a list-or-tuple of lists-or-tuples-or ndarrays with different lengths or shapes) is deprecated. If you meant to do this, you must specify 'dtype=object' when creating the ndarray\n",
      "  dat = np.array(dat)\n",
      "C:\\Users\\jamilah\\Documents\\Github_analysis_PROJECTS\\Motor_classification\\c_calculate_metrics\\put_scalar_trialdata_into_pandas.py:52: VisibleDeprecationWarning: Creating an ndarray from ragged nested sequences (which is a list-or-tuple of lists-or-tuples-or ndarrays with different lengths or shapes) is deprecated. If you meant to do this, you must specify 'dtype=object' when creating the ndarray\n",
      "  X = np.array(X)\n",
      "C:\\Users\\jamilah\\AppData\\Roaming\\Python\\Python39\\site-packages\\numpy\\core\\_asarray.py:83: VisibleDeprecationWarning: Creating an ndarray from ragged nested sequences (which is a list-or-tuple of lists-or-tuples-or ndarrays with different lengths or shapes) is deprecated. If you meant to do this, you must specify 'dtype=object' when creating the ndarray\n",
      "  return array(a, dtype, copy=False, order=order)\n"
     ]
    }
   ],
   "source": [
    "import numpy as np\n",
    "import pandas as pd\n",
    "import seaborn as sns\n",
    "import matplotlib.pyplot as plt\n",
    "\n",
    "\n",
    "import sys\n",
    "sys.path.insert(1, 'C:\\\\Users\\\\jamilah\\\\Documents\\\\Github_analysis_PROJECTS\\\\Motor_classification')\n",
    "\n",
    "from c_calculate_metrics.put_scalar_trialdata_into_pandas import *\n",
    "from c_calculate_metrics.put_timeseries_trialdata_into_pandas import *\n",
    "\n",
    "from subfunctions.make_a_properlist import *\n",
    "\n",
    "df_scalarmetics_exp = put_scalar_trialdata_into_pandas()\n",
    "df_timeseries_exp = put_timeseries_trialdata_into_pandas()"
   ]
  },
  {
   "cell_type": "code",
   "execution_count": 56,
   "id": "9eb09284",
   "metadata": {},
   "outputs": [
    {
     "data": {
      "text/html": [
       "<div>\n",
       "<style scoped>\n",
       "    .dataframe tbody tr th:only-of-type {\n",
       "        vertical-align: middle;\n",
       "    }\n",
       "\n",
       "    .dataframe tbody tr th {\n",
       "        vertical-align: top;\n",
       "    }\n",
       "\n",
       "    .dataframe thead th {\n",
       "        text-align: right;\n",
       "    }\n",
       "</style>\n",
       "<table border=\"1\" class=\"dataframe\">\n",
       "  <thead>\n",
       "    <tr style=\"text-align: right;\">\n",
       "      <th></th>\n",
       "      <th>subject</th>\n",
       "      <th>tr</th>\n",
       "      <th>ss</th>\n",
       "      <th>ax</th>\n",
       "      <th>dp</th>\n",
       "      <th>time</th>\n",
       "      <th>res_type</th>\n",
       "      <th>SIGCOM_ax0</th>\n",
       "      <th>SIGCOM_ax1</th>\n",
       "      <th>SIGCOM_ax2</th>\n",
       "      <th>SIG_ax0</th>\n",
       "      <th>SIG_ax1</th>\n",
       "      <th>SIG_ax2</th>\n",
       "      <th>JOY_ax0</th>\n",
       "      <th>JOY_ax1</th>\n",
       "      <th>JOY_ax2</th>\n",
       "      <th>NOISE_ax0</th>\n",
       "      <th>NOISE_ax1</th>\n",
       "      <th>NOISE_ax2</th>\n",
       "    </tr>\n",
       "  </thead>\n",
       "  <tbody>\n",
       "    <tr>\n",
       "      <th>0</th>\n",
       "      <td>0.0</td>\n",
       "      <td>0.0</td>\n",
       "      <td>-2.0</td>\n",
       "      <td>2.0</td>\n",
       "      <td>0.0</td>\n",
       "      <td>0.0</td>\n",
       "      <td>9.0</td>\n",
       "      <td>0.0</td>\n",
       "      <td>0.0</td>\n",
       "      <td>-0.000031</td>\n",
       "      <td>0.000161</td>\n",
       "      <td>-0.001719</td>\n",
       "      <td>0.000000</td>\n",
       "      <td>-0.011554</td>\n",
       "      <td>0.024508</td>\n",
       "      <td>4.767892</td>\n",
       "      <td>-1.521361</td>\n",
       "      <td>-0.0</td>\n",
       "      <td>4.767892</td>\n",
       "    </tr>\n",
       "    <tr>\n",
       "      <th>1</th>\n",
       "      <td>0.0</td>\n",
       "      <td>0.0</td>\n",
       "      <td>-2.0</td>\n",
       "      <td>2.0</td>\n",
       "      <td>1.0</td>\n",
       "      <td>0.1</td>\n",
       "      <td>9.0</td>\n",
       "      <td>0.0</td>\n",
       "      <td>0.0</td>\n",
       "      <td>-0.000643</td>\n",
       "      <td>0.000161</td>\n",
       "      <td>-0.001719</td>\n",
       "      <td>0.000017</td>\n",
       "      <td>-0.021598</td>\n",
       "      <td>0.019550</td>\n",
       "      <td>4.751515</td>\n",
       "      <td>-1.571196</td>\n",
       "      <td>-0.0</td>\n",
       "      <td>4.751515</td>\n",
       "    </tr>\n",
       "    <tr>\n",
       "      <th>2</th>\n",
       "      <td>0.0</td>\n",
       "      <td>0.0</td>\n",
       "      <td>-2.0</td>\n",
       "      <td>2.0</td>\n",
       "      <td>2.0</td>\n",
       "      <td>0.2</td>\n",
       "      <td>9.0</td>\n",
       "      <td>0.0</td>\n",
       "      <td>0.0</td>\n",
       "      <td>-0.002924</td>\n",
       "      <td>0.001385</td>\n",
       "      <td>-0.000573</td>\n",
       "      <td>-0.001647</td>\n",
       "      <td>-0.016906</td>\n",
       "      <td>0.025707</td>\n",
       "      <td>4.734622</td>\n",
       "      <td>-1.620855</td>\n",
       "      <td>-0.0</td>\n",
       "      <td>4.734622</td>\n",
       "    </tr>\n",
       "    <tr>\n",
       "      <th>3</th>\n",
       "      <td>0.0</td>\n",
       "      <td>0.0</td>\n",
       "      <td>-2.0</td>\n",
       "      <td>2.0</td>\n",
       "      <td>3.0</td>\n",
       "      <td>0.3</td>\n",
       "      <td>9.0</td>\n",
       "      <td>0.0</td>\n",
       "      <td>0.0</td>\n",
       "      <td>-0.007824</td>\n",
       "      <td>0.003168</td>\n",
       "      <td>-0.001718</td>\n",
       "      <td>-0.006059</td>\n",
       "      <td>-0.019183</td>\n",
       "      <td>0.025485</td>\n",
       "      <td>4.717215</td>\n",
       "      <td>-1.670332</td>\n",
       "      <td>-0.0</td>\n",
       "      <td>4.717215</td>\n",
       "    </tr>\n",
       "    <tr>\n",
       "      <th>4</th>\n",
       "      <td>0.0</td>\n",
       "      <td>0.0</td>\n",
       "      <td>-2.0</td>\n",
       "      <td>2.0</td>\n",
       "      <td>4.0</td>\n",
       "      <td>0.4</td>\n",
       "      <td>9.0</td>\n",
       "      <td>0.0</td>\n",
       "      <td>0.0</td>\n",
       "      <td>-0.016095</td>\n",
       "      <td>0.005170</td>\n",
       "      <td>-0.004004</td>\n",
       "      <td>-0.016273</td>\n",
       "      <td>-0.017965</td>\n",
       "      <td>0.023064</td>\n",
       "      <td>4.699294</td>\n",
       "      <td>-1.719622</td>\n",
       "      <td>-0.0</td>\n",
       "      <td>4.699294</td>\n",
       "    </tr>\n",
       "  </tbody>\n",
       "</table>\n",
       "</div>"
      ],
      "text/plain": [
       "   subject   tr   ss   ax   dp  time  res_type  SIGCOM_ax0  SIGCOM_ax1  \\\n",
       "0      0.0  0.0 -2.0  2.0  0.0   0.0       9.0         0.0         0.0   \n",
       "1      0.0  0.0 -2.0  2.0  1.0   0.1       9.0         0.0         0.0   \n",
       "2      0.0  0.0 -2.0  2.0  2.0   0.2       9.0         0.0         0.0   \n",
       "3      0.0  0.0 -2.0  2.0  3.0   0.3       9.0         0.0         0.0   \n",
       "4      0.0  0.0 -2.0  2.0  4.0   0.4       9.0         0.0         0.0   \n",
       "\n",
       "   SIGCOM_ax2   SIG_ax0   SIG_ax1   SIG_ax2   JOY_ax0   JOY_ax1   JOY_ax2  \\\n",
       "0   -0.000031  0.000161 -0.001719  0.000000 -0.011554  0.024508  4.767892   \n",
       "1   -0.000643  0.000161 -0.001719  0.000017 -0.021598  0.019550  4.751515   \n",
       "2   -0.002924  0.001385 -0.000573 -0.001647 -0.016906  0.025707  4.734622   \n",
       "3   -0.007824  0.003168 -0.001718 -0.006059 -0.019183  0.025485  4.717215   \n",
       "4   -0.016095  0.005170 -0.004004 -0.016273 -0.017965  0.023064  4.699294   \n",
       "\n",
       "   NOISE_ax0  NOISE_ax1  NOISE_ax2  \n",
       "0  -1.521361       -0.0   4.767892  \n",
       "1  -1.571196       -0.0   4.751515  \n",
       "2  -1.620855       -0.0   4.734622  \n",
       "3  -1.670332       -0.0   4.717215  \n",
       "4  -1.719622       -0.0   4.699294  "
      ]
     },
     "execution_count": 56,
     "metadata": {},
     "output_type": "execute_result"
    }
   ],
   "source": [
    "df9 = df_timeseries_exp['rot'][(df_timeseries_exp['rot'].res_type == 9)]\n",
    "df9.head()"
   ]
  },
  {
   "cell_type": "markdown",
   "id": "507bdeea",
   "metadata": {},
   "source": [
    "## OR"
   ]
  },
  {
   "cell_type": "code",
   "execution_count": 135,
   "id": "294089e1",
   "metadata": {},
   "outputs": [
    {
     "data": {
      "text/html": [
       "<div>\n",
       "<style scoped>\n",
       "    .dataframe tbody tr th:only-of-type {\n",
       "        vertical-align: middle;\n",
       "    }\n",
       "\n",
       "    .dataframe tbody tr th {\n",
       "        vertical-align: top;\n",
       "    }\n",
       "\n",
       "    .dataframe thead th {\n",
       "        text-align: right;\n",
       "    }\n",
       "</style>\n",
       "<table border=\"1\" class=\"dataframe\">\n",
       "  <thead>\n",
       "    <tr style=\"text-align: right;\">\n",
       "      <th></th>\n",
       "      <th>subject</th>\n",
       "      <th>tr</th>\n",
       "      <th>ss</th>\n",
       "      <th>ax</th>\n",
       "      <th>dp</th>\n",
       "      <th>time</th>\n",
       "      <th>res_type</th>\n",
       "      <th>SIGCOM_ax0</th>\n",
       "      <th>SIGCOM_ax1</th>\n",
       "      <th>SIGCOM_ax2</th>\n",
       "      <th>SIG_ax0</th>\n",
       "      <th>SIG_ax1</th>\n",
       "      <th>SIG_ax2</th>\n",
       "      <th>JOY_ax0</th>\n",
       "      <th>JOY_ax1</th>\n",
       "      <th>JOY_ax2</th>\n",
       "      <th>NOISE_ax0</th>\n",
       "      <th>NOISE_ax1</th>\n",
       "      <th>NOISE_ax2</th>\n",
       "    </tr>\n",
       "  </thead>\n",
       "  <tbody>\n",
       "    <tr>\n",
       "      <th>1457</th>\n",
       "      <td>0.0</td>\n",
       "      <td>13.0</td>\n",
       "      <td>2.0</td>\n",
       "      <td>0.0</td>\n",
       "      <td>0.0</td>\n",
       "      <td>0.000</td>\n",
       "      <td>9.0</td>\n",
       "      <td>0.041375</td>\n",
       "      <td>0.0</td>\n",
       "      <td>0.0</td>\n",
       "      <td>0.023042</td>\n",
       "      <td>-0.001133</td>\n",
       "      <td>0.008839</td>\n",
       "      <td>-0.020812</td>\n",
       "      <td>0.0</td>\n",
       "      <td>0.323768</td>\n",
       "      <td>0.0</td>\n",
       "      <td>0.946137</td>\n",
       "      <td>0.323768</td>\n",
       "    </tr>\n",
       "    <tr>\n",
       "      <th>1458</th>\n",
       "      <td>0.0</td>\n",
       "      <td>13.0</td>\n",
       "      <td>2.0</td>\n",
       "      <td>0.0</td>\n",
       "      <td>1.0</td>\n",
       "      <td>0.252</td>\n",
       "      <td>9.0</td>\n",
       "      <td>0.196800</td>\n",
       "      <td>0.0</td>\n",
       "      <td>0.0</td>\n",
       "      <td>0.159524</td>\n",
       "      <td>-0.000507</td>\n",
       "      <td>0.015869</td>\n",
       "      <td>-0.020505</td>\n",
       "      <td>-0.0</td>\n",
       "      <td>0.298690</td>\n",
       "      <td>0.0</td>\n",
       "      <td>0.954350</td>\n",
       "      <td>0.298690</td>\n",
       "    </tr>\n",
       "    <tr>\n",
       "      <th>1459</th>\n",
       "      <td>0.0</td>\n",
       "      <td>13.0</td>\n",
       "      <td>2.0</td>\n",
       "      <td>0.0</td>\n",
       "      <td>2.0</td>\n",
       "      <td>0.548</td>\n",
       "      <td>9.0</td>\n",
       "      <td>0.563372</td>\n",
       "      <td>0.0</td>\n",
       "      <td>0.0</td>\n",
       "      <td>0.500629</td>\n",
       "      <td>0.000422</td>\n",
       "      <td>0.006316</td>\n",
       "      <td>-0.019576</td>\n",
       "      <td>0.0</td>\n",
       "      <td>0.268969</td>\n",
       "      <td>0.0</td>\n",
       "      <td>0.963149</td>\n",
       "      <td>0.268969</td>\n",
       "    </tr>\n",
       "    <tr>\n",
       "      <th>1460</th>\n",
       "      <td>0.0</td>\n",
       "      <td>13.0</td>\n",
       "      <td>2.0</td>\n",
       "      <td>0.0</td>\n",
       "      <td>3.0</td>\n",
       "      <td>0.864</td>\n",
       "      <td>9.0</td>\n",
       "      <td>1.166752</td>\n",
       "      <td>-0.0</td>\n",
       "      <td>0.0</td>\n",
       "      <td>1.093078</td>\n",
       "      <td>-0.000613</td>\n",
       "      <td>0.009290</td>\n",
       "      <td>-0.021618</td>\n",
       "      <td>0.0</td>\n",
       "      <td>0.236956</td>\n",
       "      <td>0.0</td>\n",
       "      <td>0.971520</td>\n",
       "      <td>0.236956</td>\n",
       "    </tr>\n",
       "    <tr>\n",
       "      <th>1461</th>\n",
       "      <td>0.0</td>\n",
       "      <td>13.0</td>\n",
       "      <td>2.0</td>\n",
       "      <td>0.0</td>\n",
       "      <td>4.0</td>\n",
       "      <td>1.152</td>\n",
       "      <td>9.0</td>\n",
       "      <td>1.877104</td>\n",
       "      <td>-0.0</td>\n",
       "      <td>0.0</td>\n",
       "      <td>1.807579</td>\n",
       "      <td>0.002388</td>\n",
       "      <td>0.009450</td>\n",
       "      <td>-0.021002</td>\n",
       "      <td>-0.0</td>\n",
       "      <td>0.207552</td>\n",
       "      <td>0.0</td>\n",
       "      <td>0.978224</td>\n",
       "      <td>0.207552</td>\n",
       "    </tr>\n",
       "  </tbody>\n",
       "</table>\n",
       "</div>"
      ],
      "text/plain": [
       "      subject    tr   ss   ax   dp   time  res_type  SIGCOM_ax0  SIGCOM_ax1  \\\n",
       "1457      0.0  13.0  2.0  0.0  0.0  0.000       9.0    0.041375         0.0   \n",
       "1458      0.0  13.0  2.0  0.0  1.0  0.252       9.0    0.196800         0.0   \n",
       "1459      0.0  13.0  2.0  0.0  2.0  0.548       9.0    0.563372         0.0   \n",
       "1460      0.0  13.0  2.0  0.0  3.0  0.864       9.0    1.166752        -0.0   \n",
       "1461      0.0  13.0  2.0  0.0  4.0  1.152       9.0    1.877104        -0.0   \n",
       "\n",
       "      SIGCOM_ax2   SIG_ax0   SIG_ax1   SIG_ax2   JOY_ax0  JOY_ax1   JOY_ax2  \\\n",
       "1457         0.0  0.023042 -0.001133  0.008839 -0.020812      0.0  0.323768   \n",
       "1458         0.0  0.159524 -0.000507  0.015869 -0.020505     -0.0  0.298690   \n",
       "1459         0.0  0.500629  0.000422  0.006316 -0.019576      0.0  0.268969   \n",
       "1460         0.0  1.093078 -0.000613  0.009290 -0.021618      0.0  0.236956   \n",
       "1461         0.0  1.807579  0.002388  0.009450 -0.021002     -0.0  0.207552   \n",
       "\n",
       "      NOISE_ax0  NOISE_ax1  NOISE_ax2  \n",
       "1457        0.0   0.946137   0.323768  \n",
       "1458        0.0   0.954350   0.298690  \n",
       "1459        0.0   0.963149   0.268969  \n",
       "1460        0.0   0.971520   0.236956  \n",
       "1461        0.0   0.978224   0.207552  "
      ]
     },
     "execution_count": 135,
     "metadata": {},
     "output_type": "execute_result"
    }
   ],
   "source": [
    "df9 = df_timeseries_exp['trans'][(df_timeseries_exp['trans'].res_type == 9)]\n",
    "df9.head()"
   ]
  },
  {
   "cell_type": "code",
   "execution_count": 136,
   "id": "9e5e148b",
   "metadata": {},
   "outputs": [
    {
     "data": {
      "text/plain": [
       "array([ 6.,  4.,  5., 11.,  0.])"
      ]
     },
     "execution_count": 136,
     "metadata": {},
     "output_type": "execute_result"
    }
   ],
   "source": [
    "subs = df9.subject.value_counts().index.to_numpy()\n",
    "subs"
   ]
  },
  {
   "cell_type": "code",
   "execution_count": 137,
   "id": "f93b0aa1",
   "metadata": {
    "scrolled": true
   },
   "outputs": [],
   "source": [
    "tr_tot = []\n",
    "\n",
    "df_test = pd.DataFrame()\n",
    "for i in subs:\n",
    "    #print('i :', i)\n",
    "    sut = df9.tr[(df9.subject == 0)].value_counts().index.to_numpy()\n",
    "    tr_tot.append(sut)\n",
    "    \n",
    "    for j in sut:\n",
    "        #print('j :', j)\n",
    "        \n",
    "        test = df9.SIG_ax0[(df9.subject == i) & (df9.tr == j)].to_numpy()\n",
    "        if any(test):\n",
    "            \n",
    "            # axis : 0=RO/LR, 1=PI/FB, 2=YA/UD\n",
    "            ax9 = df9.ax[(df9.subject == i) & (df9.tr == j)].value_counts().index.to_numpy()[0]\n",
    "            \n",
    "            # speed stimulation : 1=sub, 2=sup\n",
    "            ss9 = df9.ss[(df9.subject == i) & (df9.tr == j)].value_counts().index.to_numpy()[0]\n",
    "            \n",
    "            # cabin motion\n",
    "            a = make_a_properlist(df9.SIG_ax0[(df9.subject == i) & (df9.tr == j)].to_numpy())\n",
    "            b = make_a_properlist(df9.SIG_ax1[(df9.subject == i) & (df9.tr == j)].to_numpy())\n",
    "            c = make_a_properlist(df9.SIG_ax2[(df9.subject == i) & (df9.tr == j)].to_numpy())\n",
    "            d = make_a_properlist(df9.time[(df9.subject == i) & (df9.tr == j)].to_numpy())\n",
    "\n",
    "            data = ax9, ss9, [a], [b], [c], [d]\n",
    "            df_row = pd.DataFrame(data=data)\n",
    "            df_row = df_row.T # or df1.transpose()\n",
    "            df_test = pd.concat([df_test, df_row], axis=0)"
   ]
  },
  {
   "cell_type": "code",
   "execution_count": 138,
   "id": "7e5128e2",
   "metadata": {},
   "outputs": [],
   "source": [
    "df_test = df_test.reset_index(drop=True)\n",
    "df_test = df_test.rename({0: 'ax', 1: 'ss', 2: 'sig0', 3: 'sig1', 4: 'sig2', 5: 'time'}, axis=1)"
   ]
  },
  {
   "cell_type": "code",
   "execution_count": 139,
   "id": "59613b7f",
   "metadata": {},
   "outputs": [
    {
     "data": {
      "text/html": [
       "<div>\n",
       "<style scoped>\n",
       "    .dataframe tbody tr th:only-of-type {\n",
       "        vertical-align: middle;\n",
       "    }\n",
       "\n",
       "    .dataframe tbody tr th {\n",
       "        vertical-align: top;\n",
       "    }\n",
       "\n",
       "    .dataframe thead th {\n",
       "        text-align: right;\n",
       "    }\n",
       "</style>\n",
       "<table border=\"1\" class=\"dataframe\">\n",
       "  <thead>\n",
       "    <tr style=\"text-align: right;\">\n",
       "      <th></th>\n",
       "      <th>ax</th>\n",
       "      <th>ss</th>\n",
       "      <th>sig0</th>\n",
       "      <th>sig1</th>\n",
       "      <th>sig2</th>\n",
       "      <th>time</th>\n",
       "    </tr>\n",
       "  </thead>\n",
       "  <tbody>\n",
       "    <tr>\n",
       "      <th>0</th>\n",
       "      <td>0.0</td>\n",
       "      <td>2.0</td>\n",
       "      <td>[[0.023042, 0.159524, 0.500629, 1.093078, 1.80...</td>\n",
       "      <td>[[-0.001133, -0.000507, 0.000422, -0.000613, 0...</td>\n",
       "      <td>[[0.008839, 0.015869, 0.006316, 0.00929, 0.009...</td>\n",
       "      <td>[[0.0, 0.252, 0.548, 0.864, 1.1520000000000001...</td>\n",
       "    </tr>\n",
       "  </tbody>\n",
       "</table>\n",
       "</div>"
      ],
      "text/plain": [
       "    ax   ss                                               sig0  \\\n",
       "0  0.0  2.0  [[0.023042, 0.159524, 0.500629, 1.093078, 1.80...   \n",
       "\n",
       "                                                sig1  \\\n",
       "0  [[-0.001133, -0.000507, 0.000422, -0.000613, 0...   \n",
       "\n",
       "                                                sig2  \\\n",
       "0  [[0.008839, 0.015869, 0.006316, 0.00929, 0.009...   \n",
       "\n",
       "                                                time  \n",
       "0  [[0.0, 0.252, 0.548, 0.864, 1.1520000000000001...  "
      ]
     },
     "execution_count": 139,
     "metadata": {},
     "output_type": "execute_result"
    }
   ],
   "source": [
    "df_test.head()"
   ]
  },
  {
   "cell_type": "code",
   "execution_count": 140,
   "id": "66199630",
   "metadata": {},
   "outputs": [
    {
     "data": {
      "text/plain": [
       "0.0    1\n",
       "Name: ax, dtype: int64"
      ]
     },
     "execution_count": 140,
     "metadata": {},
     "output_type": "execute_result"
    }
   ],
   "source": [
    "df_test.ax.value_counts()"
   ]
  },
  {
   "cell_type": "code",
   "execution_count": 141,
   "id": "b804ebe2",
   "metadata": {},
   "outputs": [
    {
     "data": {
      "text/plain": [
       "2.0    1\n",
       "Name: ss, dtype: int64"
      ]
     },
     "execution_count": 141,
     "metadata": {},
     "output_type": "execute_result"
    }
   ],
   "source": [
    "df_test.ss.value_counts()"
   ]
  },
  {
   "cell_type": "code",
   "execution_count": 143,
   "id": "e356c246",
   "metadata": {},
   "outputs": [
    {
     "data": {
      "application/vnd.plotly.v1+json": {
       "config": {
        "plotlyServerURL": "https://plot.ly"
       },
       "data": [
        {
         "line": {
          "color": "red",
          "dash": "solid",
          "width": 2
         },
         "name": "sig0",
         "showlegend": true,
         "type": "scatter",
         "x": [
          0,
          0.252,
          0.548,
          0.864,
          1.1520000000000001,
          1.488,
          1.8040000000000003,
          2.092,
          2.444,
          2.708,
          3.02,
          3.2960000000000003,
          3.596,
          3.8720000000000003,
          4.156,
          4.444,
          4.768,
          5.072,
          5.38,
          5.72,
          6.024,
          6.356,
          6.656,
          7.008,
          7.263999999999999,
          7.552,
          7.867999999999999,
          8.192,
          8.516,
          8.776,
          9.128,
          9.424000000000001,
          9.764000000000001,
          10.072000000000001,
          10.344000000000001,
          10.648,
          10.952,
          11.272,
          11.552000000000001,
          11.872,
          12.18,
          12.456000000000001,
          12.752,
          13.08,
          13.344000000000001,
          13.700000000000001,
          14.028,
          14.3,
          14.604000000000001,
          14.912,
          15.224,
          15.520000000000001,
          15.804,
          16.116000999999997,
          16.380001,
          16.7,
          17.008001,
          17.279999999999998,
          17.599999999999998,
          17.968,
          18.259999999999998,
          18.579998999999997,
          18.871999,
          19.176,
          19.496,
          19.776,
          20.079998999999997,
          20.371999
         ],
         "xaxis": "x",
         "y": [
          0.023042,
          0.159524,
          0.500629,
          1.093078,
          1.807579,
          2.791873,
          3.822797,
          4.820811,
          6.092393,
          7.062352,
          8.225694,
          9.256043,
          10.384264,
          11.419297,
          12.485373,
          13.568351,
          14.773822,
          15.925674,
          17.081326,
          18.358227,
          19.484549,
          20.734241,
          21.866354,
          23.187357,
          24.145184,
          25.227673,
          26.410152,
          27.626871,
          28.837828,
          29.814705,
          31.135418,
          32.241932,
          33.515652,
          34.681141,
          35.698219,
          36.836475,
          37.976654,
          39.176136,
          40.225468,
          41.42709,
          42.581947,
          43.616348,
          44.725311,
          45.959106,
          46.945118,
          48.282333,
          49.51125,
          50.530132,
          51.598763,
          52.584045,
          53.496536,
          54.294827,
          55.005829,
          55.730972,
          56.302773,
          56.952168,
          57.539742,
          58.022148,
          58.565571,
          59.130795,
          59.569763,
          60.021751,
          60.404644,
          60.77673,
          61.157829,
          61.475563,
          61.804081,
          62.098934
         ],
         "yaxis": "y"
        },
        {
         "line": {
          "color": "green",
          "dash": "solid",
          "width": 2
         },
         "name": "sig1",
         "showlegend": true,
         "type": "scatter",
         "x": [
          0,
          0.252,
          0.548,
          0.864,
          1.1520000000000001,
          1.488,
          1.8040000000000003,
          2.092,
          2.444,
          2.708,
          3.02,
          3.2960000000000003,
          3.596,
          3.8720000000000003,
          4.156,
          4.444,
          4.768,
          5.072,
          5.38,
          5.72,
          6.024,
          6.356,
          6.656,
          7.008,
          7.263999999999999,
          7.552,
          7.867999999999999,
          8.192,
          8.516,
          8.776,
          9.128,
          9.424000000000001,
          9.764000000000001,
          10.072000000000001,
          10.344000000000001,
          10.648,
          10.952,
          11.272,
          11.552000000000001,
          11.872,
          12.18,
          12.456000000000001,
          12.752,
          13.08,
          13.344000000000001,
          13.700000000000001,
          14.028,
          14.3,
          14.604000000000001,
          14.912,
          15.224,
          15.520000000000001,
          15.804,
          16.116000999999997,
          16.380001,
          16.7,
          17.008001,
          17.279999999999998,
          17.599999999999998,
          17.968,
          18.259999999999998,
          18.579998999999997,
          18.871999,
          19.176,
          19.496,
          19.776,
          20.079998999999997,
          20.371999
         ],
         "xaxis": "x",
         "y": [
          -0.001133,
          -0.000507,
          0.000422,
          -0.000613,
          0.002388,
          -0.000957,
          0.0011,
          0.000974,
          0.000293,
          0.001584,
          -0.000554,
          0.000368,
          0.000769,
          0.002026,
          0.000323,
          -0.000256,
          -0.000188,
          0.000171,
          0.001324,
          -0.000444,
          -0.001806,
          -0.000346,
          0.002246,
          0.000879,
          0.001132,
          0.001799,
          0.001589,
          0.002132,
          -0.000681,
          -0.000722,
          -4.3e-05,
          -0.000775,
          -0.000378,
          5.7e-05,
          0.001095,
          -0.001279,
          0.001938,
          -0.000155,
          0.001202,
          0.000125,
          0.002484,
          -0.000597,
          -0.001534,
          0.001355,
          0.000444,
          0.000265,
          0.001634,
          -0.000137,
          0.001868,
          0.000187,
          -0.001145,
          -0.000382,
          -0.001032,
          -0.001485,
          0.002719,
          -0.001361,
          -0.001393,
          0.000248,
          0.001087,
          0.004096,
          0.001662,
          -0.000879,
          -0.000207,
          0.002533,
          -0.000751,
          -0.00083,
          -0.001945,
          -0.000195
         ],
         "yaxis": "y"
        },
        {
         "line": {
          "color": "blue",
          "dash": "solid",
          "width": 2
         },
         "name": "sig2",
         "showlegend": true,
         "type": "scatter",
         "x": [
          0,
          0.252,
          0.548,
          0.864,
          1.1520000000000001,
          1.488,
          1.8040000000000003,
          2.092,
          2.444,
          2.708,
          3.02,
          3.2960000000000003,
          3.596,
          3.8720000000000003,
          4.156,
          4.444,
          4.768,
          5.072,
          5.38,
          5.72,
          6.024,
          6.356,
          6.656,
          7.008,
          7.263999999999999,
          7.552,
          7.867999999999999,
          8.192,
          8.516,
          8.776,
          9.128,
          9.424000000000001,
          9.764000000000001,
          10.072000000000001,
          10.344000000000001,
          10.648,
          10.952,
          11.272,
          11.552000000000001,
          11.872,
          12.18,
          12.456000000000001,
          12.752,
          13.08,
          13.344000000000001,
          13.700000000000001,
          14.028,
          14.3,
          14.604000000000001,
          14.912,
          15.224,
          15.520000000000001,
          15.804,
          16.116000999999997,
          16.380001,
          16.7,
          17.008001,
          17.279999999999998,
          17.599999999999998,
          17.968,
          18.259999999999998,
          18.579998999999997,
          18.871999,
          19.176,
          19.496,
          19.776,
          20.079998999999997,
          20.371999
         ],
         "xaxis": "x",
         "y": [
          0.008839,
          0.015869,
          0.006316,
          0.00929,
          0.00945,
          0.00954,
          0.010808,
          0.007761,
          0.010232,
          0.007291,
          0.008498,
          0.007934,
          0.008302,
          0.005235,
          0.003592,
          0.007691,
          0.010221,
          0.005408,
          0.005736,
          0.007489,
          1.142934,
          2.94717,
          3.056297,
          3.020608,
          3.121725,
          3.254581,
          3.529761,
          4.22931,
          4.941562,
          5.52404,
          6.439355,
          7.430559,
          8.544151,
          8.994864,
          9.135357,
          9.426707,
          9.768802,
          10.133667,
          10.456891,
          10.830462,
          11.066459,
          11.02363,
          11.001902,
          10.99598,
          10.98616,
          10.98702,
          10.984908,
          10.983941,
          10.980598,
          10.979483,
          10.982236,
          10.98263,
          10.983546,
          11.463427,
          11.885051,
          12.061312,
          12.027628,
          12.008267,
          12.132304,
          13.370422,
          14.077815,
          13.99535,
          14.021704,
          14.536645,
          15.292925,
          15.925665,
          16.616018,
          17.261049
         ],
         "yaxis": "y"
        }
       ],
       "layout": {
        "template": {
         "data": {
          "bar": [
           {
            "error_x": {
             "color": "#2a3f5f"
            },
            "error_y": {
             "color": "#2a3f5f"
            },
            "marker": {
             "line": {
              "color": "#E5ECF6",
              "width": 0.5
             },
             "pattern": {
              "fillmode": "overlay",
              "size": 10,
              "solidity": 0.2
             }
            },
            "type": "bar"
           }
          ],
          "barpolar": [
           {
            "marker": {
             "line": {
              "color": "#E5ECF6",
              "width": 0.5
             },
             "pattern": {
              "fillmode": "overlay",
              "size": 10,
              "solidity": 0.2
             }
            },
            "type": "barpolar"
           }
          ],
          "carpet": [
           {
            "aaxis": {
             "endlinecolor": "#2a3f5f",
             "gridcolor": "white",
             "linecolor": "white",
             "minorgridcolor": "white",
             "startlinecolor": "#2a3f5f"
            },
            "baxis": {
             "endlinecolor": "#2a3f5f",
             "gridcolor": "white",
             "linecolor": "white",
             "minorgridcolor": "white",
             "startlinecolor": "#2a3f5f"
            },
            "type": "carpet"
           }
          ],
          "choropleth": [
           {
            "colorbar": {
             "outlinewidth": 0,
             "ticks": ""
            },
            "type": "choropleth"
           }
          ],
          "contour": [
           {
            "colorbar": {
             "outlinewidth": 0,
             "ticks": ""
            },
            "colorscale": [
             [
              0,
              "#0d0887"
             ],
             [
              0.1111111111111111,
              "#46039f"
             ],
             [
              0.2222222222222222,
              "#7201a8"
             ],
             [
              0.3333333333333333,
              "#9c179e"
             ],
             [
              0.4444444444444444,
              "#bd3786"
             ],
             [
              0.5555555555555556,
              "#d8576b"
             ],
             [
              0.6666666666666666,
              "#ed7953"
             ],
             [
              0.7777777777777778,
              "#fb9f3a"
             ],
             [
              0.8888888888888888,
              "#fdca26"
             ],
             [
              1,
              "#f0f921"
             ]
            ],
            "type": "contour"
           }
          ],
          "contourcarpet": [
           {
            "colorbar": {
             "outlinewidth": 0,
             "ticks": ""
            },
            "type": "contourcarpet"
           }
          ],
          "heatmap": [
           {
            "colorbar": {
             "outlinewidth": 0,
             "ticks": ""
            },
            "colorscale": [
             [
              0,
              "#0d0887"
             ],
             [
              0.1111111111111111,
              "#46039f"
             ],
             [
              0.2222222222222222,
              "#7201a8"
             ],
             [
              0.3333333333333333,
              "#9c179e"
             ],
             [
              0.4444444444444444,
              "#bd3786"
             ],
             [
              0.5555555555555556,
              "#d8576b"
             ],
             [
              0.6666666666666666,
              "#ed7953"
             ],
             [
              0.7777777777777778,
              "#fb9f3a"
             ],
             [
              0.8888888888888888,
              "#fdca26"
             ],
             [
              1,
              "#f0f921"
             ]
            ],
            "type": "heatmap"
           }
          ],
          "heatmapgl": [
           {
            "colorbar": {
             "outlinewidth": 0,
             "ticks": ""
            },
            "colorscale": [
             [
              0,
              "#0d0887"
             ],
             [
              0.1111111111111111,
              "#46039f"
             ],
             [
              0.2222222222222222,
              "#7201a8"
             ],
             [
              0.3333333333333333,
              "#9c179e"
             ],
             [
              0.4444444444444444,
              "#bd3786"
             ],
             [
              0.5555555555555556,
              "#d8576b"
             ],
             [
              0.6666666666666666,
              "#ed7953"
             ],
             [
              0.7777777777777778,
              "#fb9f3a"
             ],
             [
              0.8888888888888888,
              "#fdca26"
             ],
             [
              1,
              "#f0f921"
             ]
            ],
            "type": "heatmapgl"
           }
          ],
          "histogram": [
           {
            "marker": {
             "pattern": {
              "fillmode": "overlay",
              "size": 10,
              "solidity": 0.2
             }
            },
            "type": "histogram"
           }
          ],
          "histogram2d": [
           {
            "colorbar": {
             "outlinewidth": 0,
             "ticks": ""
            },
            "colorscale": [
             [
              0,
              "#0d0887"
             ],
             [
              0.1111111111111111,
              "#46039f"
             ],
             [
              0.2222222222222222,
              "#7201a8"
             ],
             [
              0.3333333333333333,
              "#9c179e"
             ],
             [
              0.4444444444444444,
              "#bd3786"
             ],
             [
              0.5555555555555556,
              "#d8576b"
             ],
             [
              0.6666666666666666,
              "#ed7953"
             ],
             [
              0.7777777777777778,
              "#fb9f3a"
             ],
             [
              0.8888888888888888,
              "#fdca26"
             ],
             [
              1,
              "#f0f921"
             ]
            ],
            "type": "histogram2d"
           }
          ],
          "histogram2dcontour": [
           {
            "colorbar": {
             "outlinewidth": 0,
             "ticks": ""
            },
            "colorscale": [
             [
              0,
              "#0d0887"
             ],
             [
              0.1111111111111111,
              "#46039f"
             ],
             [
              0.2222222222222222,
              "#7201a8"
             ],
             [
              0.3333333333333333,
              "#9c179e"
             ],
             [
              0.4444444444444444,
              "#bd3786"
             ],
             [
              0.5555555555555556,
              "#d8576b"
             ],
             [
              0.6666666666666666,
              "#ed7953"
             ],
             [
              0.7777777777777778,
              "#fb9f3a"
             ],
             [
              0.8888888888888888,
              "#fdca26"
             ],
             [
              1,
              "#f0f921"
             ]
            ],
            "type": "histogram2dcontour"
           }
          ],
          "mesh3d": [
           {
            "colorbar": {
             "outlinewidth": 0,
             "ticks": ""
            },
            "type": "mesh3d"
           }
          ],
          "parcoords": [
           {
            "line": {
             "colorbar": {
              "outlinewidth": 0,
              "ticks": ""
             }
            },
            "type": "parcoords"
           }
          ],
          "pie": [
           {
            "automargin": true,
            "type": "pie"
           }
          ],
          "scatter": [
           {
            "marker": {
             "colorbar": {
              "outlinewidth": 0,
              "ticks": ""
             }
            },
            "type": "scatter"
           }
          ],
          "scatter3d": [
           {
            "line": {
             "colorbar": {
              "outlinewidth": 0,
              "ticks": ""
             }
            },
            "marker": {
             "colorbar": {
              "outlinewidth": 0,
              "ticks": ""
             }
            },
            "type": "scatter3d"
           }
          ],
          "scattercarpet": [
           {
            "marker": {
             "colorbar": {
              "outlinewidth": 0,
              "ticks": ""
             }
            },
            "type": "scattercarpet"
           }
          ],
          "scattergeo": [
           {
            "marker": {
             "colorbar": {
              "outlinewidth": 0,
              "ticks": ""
             }
            },
            "type": "scattergeo"
           }
          ],
          "scattergl": [
           {
            "marker": {
             "colorbar": {
              "outlinewidth": 0,
              "ticks": ""
             }
            },
            "type": "scattergl"
           }
          ],
          "scattermapbox": [
           {
            "marker": {
             "colorbar": {
              "outlinewidth": 0,
              "ticks": ""
             }
            },
            "type": "scattermapbox"
           }
          ],
          "scatterpolar": [
           {
            "marker": {
             "colorbar": {
              "outlinewidth": 0,
              "ticks": ""
             }
            },
            "type": "scatterpolar"
           }
          ],
          "scatterpolargl": [
           {
            "marker": {
             "colorbar": {
              "outlinewidth": 0,
              "ticks": ""
             }
            },
            "type": "scatterpolargl"
           }
          ],
          "scatterternary": [
           {
            "marker": {
             "colorbar": {
              "outlinewidth": 0,
              "ticks": ""
             }
            },
            "type": "scatterternary"
           }
          ],
          "surface": [
           {
            "colorbar": {
             "outlinewidth": 0,
             "ticks": ""
            },
            "colorscale": [
             [
              0,
              "#0d0887"
             ],
             [
              0.1111111111111111,
              "#46039f"
             ],
             [
              0.2222222222222222,
              "#7201a8"
             ],
             [
              0.3333333333333333,
              "#9c179e"
             ],
             [
              0.4444444444444444,
              "#bd3786"
             ],
             [
              0.5555555555555556,
              "#d8576b"
             ],
             [
              0.6666666666666666,
              "#ed7953"
             ],
             [
              0.7777777777777778,
              "#fb9f3a"
             ],
             [
              0.8888888888888888,
              "#fdca26"
             ],
             [
              1,
              "#f0f921"
             ]
            ],
            "type": "surface"
           }
          ],
          "table": [
           {
            "cells": {
             "fill": {
              "color": "#EBF0F8"
             },
             "line": {
              "color": "white"
             }
            },
            "header": {
             "fill": {
              "color": "#C8D4E3"
             },
             "line": {
              "color": "white"
             }
            },
            "type": "table"
           }
          ]
         },
         "layout": {
          "annotationdefaults": {
           "arrowcolor": "#2a3f5f",
           "arrowhead": 0,
           "arrowwidth": 1
          },
          "autotypenumbers": "strict",
          "coloraxis": {
           "colorbar": {
            "outlinewidth": 0,
            "ticks": ""
           }
          },
          "colorscale": {
           "diverging": [
            [
             0,
             "#8e0152"
            ],
            [
             0.1,
             "#c51b7d"
            ],
            [
             0.2,
             "#de77ae"
            ],
            [
             0.3,
             "#f1b6da"
            ],
            [
             0.4,
             "#fde0ef"
            ],
            [
             0.5,
             "#f7f7f7"
            ],
            [
             0.6,
             "#e6f5d0"
            ],
            [
             0.7,
             "#b8e186"
            ],
            [
             0.8,
             "#7fbc41"
            ],
            [
             0.9,
             "#4d9221"
            ],
            [
             1,
             "#276419"
            ]
           ],
           "sequential": [
            [
             0,
             "#0d0887"
            ],
            [
             0.1111111111111111,
             "#46039f"
            ],
            [
             0.2222222222222222,
             "#7201a8"
            ],
            [
             0.3333333333333333,
             "#9c179e"
            ],
            [
             0.4444444444444444,
             "#bd3786"
            ],
            [
             0.5555555555555556,
             "#d8576b"
            ],
            [
             0.6666666666666666,
             "#ed7953"
            ],
            [
             0.7777777777777778,
             "#fb9f3a"
            ],
            [
             0.8888888888888888,
             "#fdca26"
            ],
            [
             1,
             "#f0f921"
            ]
           ],
           "sequentialminus": [
            [
             0,
             "#0d0887"
            ],
            [
             0.1111111111111111,
             "#46039f"
            ],
            [
             0.2222222222222222,
             "#7201a8"
            ],
            [
             0.3333333333333333,
             "#9c179e"
            ],
            [
             0.4444444444444444,
             "#bd3786"
            ],
            [
             0.5555555555555556,
             "#d8576b"
            ],
            [
             0.6666666666666666,
             "#ed7953"
            ],
            [
             0.7777777777777778,
             "#fb9f3a"
            ],
            [
             0.8888888888888888,
             "#fdca26"
            ],
            [
             1,
             "#f0f921"
            ]
           ]
          },
          "colorway": [
           "#636efa",
           "#EF553B",
           "#00cc96",
           "#ab63fa",
           "#FFA15A",
           "#19d3f3",
           "#FF6692",
           "#B6E880",
           "#FF97FF",
           "#FECB52"
          ],
          "font": {
           "color": "#2a3f5f"
          },
          "geo": {
           "bgcolor": "white",
           "lakecolor": "white",
           "landcolor": "#E5ECF6",
           "showlakes": true,
           "showland": true,
           "subunitcolor": "white"
          },
          "hoverlabel": {
           "align": "left"
          },
          "hovermode": "closest",
          "mapbox": {
           "style": "light"
          },
          "paper_bgcolor": "white",
          "plot_bgcolor": "#E5ECF6",
          "polar": {
           "angularaxis": {
            "gridcolor": "white",
            "linecolor": "white",
            "ticks": ""
           },
           "bgcolor": "#E5ECF6",
           "radialaxis": {
            "gridcolor": "white",
            "linecolor": "white",
            "ticks": ""
           }
          },
          "scene": {
           "xaxis": {
            "backgroundcolor": "#E5ECF6",
            "gridcolor": "white",
            "gridwidth": 2,
            "linecolor": "white",
            "showbackground": true,
            "ticks": "",
            "zerolinecolor": "white"
           },
           "yaxis": {
            "backgroundcolor": "#E5ECF6",
            "gridcolor": "white",
            "gridwidth": 2,
            "linecolor": "white",
            "showbackground": true,
            "ticks": "",
            "zerolinecolor": "white"
           },
           "zaxis": {
            "backgroundcolor": "#E5ECF6",
            "gridcolor": "white",
            "gridwidth": 2,
            "linecolor": "white",
            "showbackground": true,
            "ticks": "",
            "zerolinecolor": "white"
           }
          },
          "shapedefaults": {
           "line": {
            "color": "#2a3f5f"
           }
          },
          "ternary": {
           "aaxis": {
            "gridcolor": "white",
            "linecolor": "white",
            "ticks": ""
           },
           "baxis": {
            "gridcolor": "white",
            "linecolor": "white",
            "ticks": ""
           },
           "bgcolor": "#E5ECF6",
           "caxis": {
            "gridcolor": "white",
            "linecolor": "white",
            "ticks": ""
           }
          },
          "title": {
           "x": 0.05
          },
          "xaxis": {
           "automargin": true,
           "gridcolor": "white",
           "linecolor": "white",
           "ticks": "",
           "title": {
            "standoff": 15
           },
           "zerolinecolor": "white",
           "zerolinewidth": 2
          },
          "yaxis": {
           "automargin": true,
           "gridcolor": "white",
           "linecolor": "white",
           "ticks": "",
           "title": {
            "standoff": 15
           },
           "zerolinecolor": "white",
           "zerolinewidth": 2
          }
         }
        },
        "title": {
         "text": "Stacked Subplots"
        },
        "xaxis": {
         "anchor": "y",
         "domain": [
          0,
          1
         ]
        },
        "yaxis": {
         "anchor": "x",
         "domain": [
          0,
          1
         ]
        }
       }
      },
      "text/html": [
       "<div>                            <div id=\"6d25583d-9961-41be-aaba-a1d6d261fa4a\" class=\"plotly-graph-div\" style=\"height:525px; width:100%;\"></div>            <script type=\"text/javascript\">                require([\"plotly\"], function(Plotly) {                    window.PLOTLYENV=window.PLOTLYENV || {};                                    if (document.getElementById(\"6d25583d-9961-41be-aaba-a1d6d261fa4a\")) {                    Plotly.newPlot(                        \"6d25583d-9961-41be-aaba-a1d6d261fa4a\",                        [{\"line\":{\"color\":\"red\",\"dash\":\"solid\",\"width\":2},\"name\":\"sig0\",\"showlegend\":true,\"type\":\"scatter\",\"x\":[0.0,0.252,0.548,0.864,1.1520000000000001,1.488,1.8040000000000003,2.092,2.444,2.708,3.02,3.2960000000000003,3.596,3.8720000000000003,4.156,4.444,4.768,5.072,5.38,5.72,6.024,6.356,6.656,7.008,7.263999999999999,7.552,7.867999999999999,8.192,8.516,8.776,9.128,9.424000000000001,9.764000000000001,10.072000000000001,10.344000000000001,10.648,10.952,11.272,11.552000000000001,11.872,12.18,12.456000000000001,12.752,13.08,13.344000000000001,13.700000000000001,14.028,14.3,14.604000000000001,14.912,15.224,15.520000000000001,15.804,16.116000999999997,16.380001,16.7,17.008001,17.279999999999998,17.599999999999998,17.968,18.259999999999998,18.579998999999997,18.871999,19.176,19.496,19.776,20.079998999999997,20.371999],\"xaxis\":\"x\",\"y\":[0.023042,0.159524,0.500629,1.093078,1.807579,2.791873,3.822797,4.820811,6.092393,7.062352,8.225694,9.256043,10.384264,11.419297,12.485373,13.568351,14.773822,15.925674,17.081326,18.358227,19.484549,20.734241,21.866354,23.187357,24.145184,25.227673,26.410152,27.626871,28.837828,29.814705,31.135418,32.241932,33.515652,34.681141,35.698219,36.836475,37.976654,39.176136,40.225468,41.42709,42.581947,43.616348,44.725311,45.959106,46.945118,48.282333,49.51125,50.530132,51.598763,52.584045,53.496536,54.294827,55.005829,55.730972,56.302773,56.952168,57.539742,58.022148,58.565571,59.130795,59.569763,60.021751,60.404644,60.77673,61.157829,61.475563,61.804081,62.098934],\"yaxis\":\"y\"},{\"line\":{\"color\":\"green\",\"dash\":\"solid\",\"width\":2},\"name\":\"sig1\",\"showlegend\":true,\"type\":\"scatter\",\"x\":[0.0,0.252,0.548,0.864,1.1520000000000001,1.488,1.8040000000000003,2.092,2.444,2.708,3.02,3.2960000000000003,3.596,3.8720000000000003,4.156,4.444,4.768,5.072,5.38,5.72,6.024,6.356,6.656,7.008,7.263999999999999,7.552,7.867999999999999,8.192,8.516,8.776,9.128,9.424000000000001,9.764000000000001,10.072000000000001,10.344000000000001,10.648,10.952,11.272,11.552000000000001,11.872,12.18,12.456000000000001,12.752,13.08,13.344000000000001,13.700000000000001,14.028,14.3,14.604000000000001,14.912,15.224,15.520000000000001,15.804,16.116000999999997,16.380001,16.7,17.008001,17.279999999999998,17.599999999999998,17.968,18.259999999999998,18.579998999999997,18.871999,19.176,19.496,19.776,20.079998999999997,20.371999],\"xaxis\":\"x\",\"y\":[-0.001133,-0.000507,0.000422,-0.000613,0.002388,-0.000957,0.0011,0.000974,0.000293,0.001584,-0.000554,0.000368,0.000769,0.002026,0.000323,-0.000256,-0.000188,0.000171,0.001324,-0.000444,-0.001806,-0.000346,0.002246,0.000879,0.001132,0.001799,0.001589,0.002132,-0.000681,-0.000722,-4.3e-05,-0.000775,-0.000378,5.7e-05,0.001095,-0.001279,0.001938,-0.000155,0.001202,0.000125,0.002484,-0.000597,-0.001534,0.001355,0.000444,0.000265,0.001634,-0.000137,0.001868,0.000187,-0.001145,-0.000382,-0.001032,-0.001485,0.002719,-0.001361,-0.001393,0.000248,0.001087,0.004096,0.001662,-0.000879,-0.000207,0.002533,-0.000751,-0.00083,-0.001945,-0.000195],\"yaxis\":\"y\"},{\"line\":{\"color\":\"blue\",\"dash\":\"solid\",\"width\":2},\"name\":\"sig2\",\"showlegend\":true,\"type\":\"scatter\",\"x\":[0.0,0.252,0.548,0.864,1.1520000000000001,1.488,1.8040000000000003,2.092,2.444,2.708,3.02,3.2960000000000003,3.596,3.8720000000000003,4.156,4.444,4.768,5.072,5.38,5.72,6.024,6.356,6.656,7.008,7.263999999999999,7.552,7.867999999999999,8.192,8.516,8.776,9.128,9.424000000000001,9.764000000000001,10.072000000000001,10.344000000000001,10.648,10.952,11.272,11.552000000000001,11.872,12.18,12.456000000000001,12.752,13.08,13.344000000000001,13.700000000000001,14.028,14.3,14.604000000000001,14.912,15.224,15.520000000000001,15.804,16.116000999999997,16.380001,16.7,17.008001,17.279999999999998,17.599999999999998,17.968,18.259999999999998,18.579998999999997,18.871999,19.176,19.496,19.776,20.079998999999997,20.371999],\"xaxis\":\"x\",\"y\":[0.008839,0.015869,0.006316,0.00929,0.00945,0.00954,0.010808,0.007761,0.010232,0.007291,0.008498,0.007934,0.008302,0.005235,0.003592,0.007691,0.010221,0.005408,0.005736,0.007489,1.142934,2.94717,3.056297,3.020608,3.121725,3.254581,3.529761,4.22931,4.941562,5.52404,6.439355,7.430559,8.544151,8.994864,9.135357,9.426707,9.768802,10.133667,10.456891,10.830462,11.066459,11.02363,11.001902,10.99598,10.98616,10.98702,10.984908,10.983941,10.980598,10.979483,10.982236,10.98263,10.983546,11.463427,11.885051,12.061312,12.027628,12.008267,12.132304,13.370422,14.077815,13.99535,14.021704,14.536645,15.292925,15.925665,16.616018,17.261049],\"yaxis\":\"y\"}],                        {\"template\":{\"data\":{\"bar\":[{\"error_x\":{\"color\":\"#2a3f5f\"},\"error_y\":{\"color\":\"#2a3f5f\"},\"marker\":{\"line\":{\"color\":\"#E5ECF6\",\"width\":0.5},\"pattern\":{\"fillmode\":\"overlay\",\"size\":10,\"solidity\":0.2}},\"type\":\"bar\"}],\"barpolar\":[{\"marker\":{\"line\":{\"color\":\"#E5ECF6\",\"width\":0.5},\"pattern\":{\"fillmode\":\"overlay\",\"size\":10,\"solidity\":0.2}},\"type\":\"barpolar\"}],\"carpet\":[{\"aaxis\":{\"endlinecolor\":\"#2a3f5f\",\"gridcolor\":\"white\",\"linecolor\":\"white\",\"minorgridcolor\":\"white\",\"startlinecolor\":\"#2a3f5f\"},\"baxis\":{\"endlinecolor\":\"#2a3f5f\",\"gridcolor\":\"white\",\"linecolor\":\"white\",\"minorgridcolor\":\"white\",\"startlinecolor\":\"#2a3f5f\"},\"type\":\"carpet\"}],\"choropleth\":[{\"colorbar\":{\"outlinewidth\":0,\"ticks\":\"\"},\"type\":\"choropleth\"}],\"contour\":[{\"colorbar\":{\"outlinewidth\":0,\"ticks\":\"\"},\"colorscale\":[[0.0,\"#0d0887\"],[0.1111111111111111,\"#46039f\"],[0.2222222222222222,\"#7201a8\"],[0.3333333333333333,\"#9c179e\"],[0.4444444444444444,\"#bd3786\"],[0.5555555555555556,\"#d8576b\"],[0.6666666666666666,\"#ed7953\"],[0.7777777777777778,\"#fb9f3a\"],[0.8888888888888888,\"#fdca26\"],[1.0,\"#f0f921\"]],\"type\":\"contour\"}],\"contourcarpet\":[{\"colorbar\":{\"outlinewidth\":0,\"ticks\":\"\"},\"type\":\"contourcarpet\"}],\"heatmap\":[{\"colorbar\":{\"outlinewidth\":0,\"ticks\":\"\"},\"colorscale\":[[0.0,\"#0d0887\"],[0.1111111111111111,\"#46039f\"],[0.2222222222222222,\"#7201a8\"],[0.3333333333333333,\"#9c179e\"],[0.4444444444444444,\"#bd3786\"],[0.5555555555555556,\"#d8576b\"],[0.6666666666666666,\"#ed7953\"],[0.7777777777777778,\"#fb9f3a\"],[0.8888888888888888,\"#fdca26\"],[1.0,\"#f0f921\"]],\"type\":\"heatmap\"}],\"heatmapgl\":[{\"colorbar\":{\"outlinewidth\":0,\"ticks\":\"\"},\"colorscale\":[[0.0,\"#0d0887\"],[0.1111111111111111,\"#46039f\"],[0.2222222222222222,\"#7201a8\"],[0.3333333333333333,\"#9c179e\"],[0.4444444444444444,\"#bd3786\"],[0.5555555555555556,\"#d8576b\"],[0.6666666666666666,\"#ed7953\"],[0.7777777777777778,\"#fb9f3a\"],[0.8888888888888888,\"#fdca26\"],[1.0,\"#f0f921\"]],\"type\":\"heatmapgl\"}],\"histogram\":[{\"marker\":{\"pattern\":{\"fillmode\":\"overlay\",\"size\":10,\"solidity\":0.2}},\"type\":\"histogram\"}],\"histogram2d\":[{\"colorbar\":{\"outlinewidth\":0,\"ticks\":\"\"},\"colorscale\":[[0.0,\"#0d0887\"],[0.1111111111111111,\"#46039f\"],[0.2222222222222222,\"#7201a8\"],[0.3333333333333333,\"#9c179e\"],[0.4444444444444444,\"#bd3786\"],[0.5555555555555556,\"#d8576b\"],[0.6666666666666666,\"#ed7953\"],[0.7777777777777778,\"#fb9f3a\"],[0.8888888888888888,\"#fdca26\"],[1.0,\"#f0f921\"]],\"type\":\"histogram2d\"}],\"histogram2dcontour\":[{\"colorbar\":{\"outlinewidth\":0,\"ticks\":\"\"},\"colorscale\":[[0.0,\"#0d0887\"],[0.1111111111111111,\"#46039f\"],[0.2222222222222222,\"#7201a8\"],[0.3333333333333333,\"#9c179e\"],[0.4444444444444444,\"#bd3786\"],[0.5555555555555556,\"#d8576b\"],[0.6666666666666666,\"#ed7953\"],[0.7777777777777778,\"#fb9f3a\"],[0.8888888888888888,\"#fdca26\"],[1.0,\"#f0f921\"]],\"type\":\"histogram2dcontour\"}],\"mesh3d\":[{\"colorbar\":{\"outlinewidth\":0,\"ticks\":\"\"},\"type\":\"mesh3d\"}],\"parcoords\":[{\"line\":{\"colorbar\":{\"outlinewidth\":0,\"ticks\":\"\"}},\"type\":\"parcoords\"}],\"pie\":[{\"automargin\":true,\"type\":\"pie\"}],\"scatter\":[{\"marker\":{\"colorbar\":{\"outlinewidth\":0,\"ticks\":\"\"}},\"type\":\"scatter\"}],\"scatter3d\":[{\"line\":{\"colorbar\":{\"outlinewidth\":0,\"ticks\":\"\"}},\"marker\":{\"colorbar\":{\"outlinewidth\":0,\"ticks\":\"\"}},\"type\":\"scatter3d\"}],\"scattercarpet\":[{\"marker\":{\"colorbar\":{\"outlinewidth\":0,\"ticks\":\"\"}},\"type\":\"scattercarpet\"}],\"scattergeo\":[{\"marker\":{\"colorbar\":{\"outlinewidth\":0,\"ticks\":\"\"}},\"type\":\"scattergeo\"}],\"scattergl\":[{\"marker\":{\"colorbar\":{\"outlinewidth\":0,\"ticks\":\"\"}},\"type\":\"scattergl\"}],\"scattermapbox\":[{\"marker\":{\"colorbar\":{\"outlinewidth\":0,\"ticks\":\"\"}},\"type\":\"scattermapbox\"}],\"scatterpolar\":[{\"marker\":{\"colorbar\":{\"outlinewidth\":0,\"ticks\":\"\"}},\"type\":\"scatterpolar\"}],\"scatterpolargl\":[{\"marker\":{\"colorbar\":{\"outlinewidth\":0,\"ticks\":\"\"}},\"type\":\"scatterpolargl\"}],\"scatterternary\":[{\"marker\":{\"colorbar\":{\"outlinewidth\":0,\"ticks\":\"\"}},\"type\":\"scatterternary\"}],\"surface\":[{\"colorbar\":{\"outlinewidth\":0,\"ticks\":\"\"},\"colorscale\":[[0.0,\"#0d0887\"],[0.1111111111111111,\"#46039f\"],[0.2222222222222222,\"#7201a8\"],[0.3333333333333333,\"#9c179e\"],[0.4444444444444444,\"#bd3786\"],[0.5555555555555556,\"#d8576b\"],[0.6666666666666666,\"#ed7953\"],[0.7777777777777778,\"#fb9f3a\"],[0.8888888888888888,\"#fdca26\"],[1.0,\"#f0f921\"]],\"type\":\"surface\"}],\"table\":[{\"cells\":{\"fill\":{\"color\":\"#EBF0F8\"},\"line\":{\"color\":\"white\"}},\"header\":{\"fill\":{\"color\":\"#C8D4E3\"},\"line\":{\"color\":\"white\"}},\"type\":\"table\"}]},\"layout\":{\"annotationdefaults\":{\"arrowcolor\":\"#2a3f5f\",\"arrowhead\":0,\"arrowwidth\":1},\"autotypenumbers\":\"strict\",\"coloraxis\":{\"colorbar\":{\"outlinewidth\":0,\"ticks\":\"\"}},\"colorscale\":{\"diverging\":[[0,\"#8e0152\"],[0.1,\"#c51b7d\"],[0.2,\"#de77ae\"],[0.3,\"#f1b6da\"],[0.4,\"#fde0ef\"],[0.5,\"#f7f7f7\"],[0.6,\"#e6f5d0\"],[0.7,\"#b8e186\"],[0.8,\"#7fbc41\"],[0.9,\"#4d9221\"],[1,\"#276419\"]],\"sequential\":[[0.0,\"#0d0887\"],[0.1111111111111111,\"#46039f\"],[0.2222222222222222,\"#7201a8\"],[0.3333333333333333,\"#9c179e\"],[0.4444444444444444,\"#bd3786\"],[0.5555555555555556,\"#d8576b\"],[0.6666666666666666,\"#ed7953\"],[0.7777777777777778,\"#fb9f3a\"],[0.8888888888888888,\"#fdca26\"],[1.0,\"#f0f921\"]],\"sequentialminus\":[[0.0,\"#0d0887\"],[0.1111111111111111,\"#46039f\"],[0.2222222222222222,\"#7201a8\"],[0.3333333333333333,\"#9c179e\"],[0.4444444444444444,\"#bd3786\"],[0.5555555555555556,\"#d8576b\"],[0.6666666666666666,\"#ed7953\"],[0.7777777777777778,\"#fb9f3a\"],[0.8888888888888888,\"#fdca26\"],[1.0,\"#f0f921\"]]},\"colorway\":[\"#636efa\",\"#EF553B\",\"#00cc96\",\"#ab63fa\",\"#FFA15A\",\"#19d3f3\",\"#FF6692\",\"#B6E880\",\"#FF97FF\",\"#FECB52\"],\"font\":{\"color\":\"#2a3f5f\"},\"geo\":{\"bgcolor\":\"white\",\"lakecolor\":\"white\",\"landcolor\":\"#E5ECF6\",\"showlakes\":true,\"showland\":true,\"subunitcolor\":\"white\"},\"hoverlabel\":{\"align\":\"left\"},\"hovermode\":\"closest\",\"mapbox\":{\"style\":\"light\"},\"paper_bgcolor\":\"white\",\"plot_bgcolor\":\"#E5ECF6\",\"polar\":{\"angularaxis\":{\"gridcolor\":\"white\",\"linecolor\":\"white\",\"ticks\":\"\"},\"bgcolor\":\"#E5ECF6\",\"radialaxis\":{\"gridcolor\":\"white\",\"linecolor\":\"white\",\"ticks\":\"\"}},\"scene\":{\"xaxis\":{\"backgroundcolor\":\"#E5ECF6\",\"gridcolor\":\"white\",\"gridwidth\":2,\"linecolor\":\"white\",\"showbackground\":true,\"ticks\":\"\",\"zerolinecolor\":\"white\"},\"yaxis\":{\"backgroundcolor\":\"#E5ECF6\",\"gridcolor\":\"white\",\"gridwidth\":2,\"linecolor\":\"white\",\"showbackground\":true,\"ticks\":\"\",\"zerolinecolor\":\"white\"},\"zaxis\":{\"backgroundcolor\":\"#E5ECF6\",\"gridcolor\":\"white\",\"gridwidth\":2,\"linecolor\":\"white\",\"showbackground\":true,\"ticks\":\"\",\"zerolinecolor\":\"white\"}},\"shapedefaults\":{\"line\":{\"color\":\"#2a3f5f\"}},\"ternary\":{\"aaxis\":{\"gridcolor\":\"white\",\"linecolor\":\"white\",\"ticks\":\"\"},\"baxis\":{\"gridcolor\":\"white\",\"linecolor\":\"white\",\"ticks\":\"\"},\"bgcolor\":\"#E5ECF6\",\"caxis\":{\"gridcolor\":\"white\",\"linecolor\":\"white\",\"ticks\":\"\"}},\"title\":{\"x\":0.05},\"xaxis\":{\"automargin\":true,\"gridcolor\":\"white\",\"linecolor\":\"white\",\"ticks\":\"\",\"title\":{\"standoff\":15},\"zerolinecolor\":\"white\",\"zerolinewidth\":2},\"yaxis\":{\"automargin\":true,\"gridcolor\":\"white\",\"linecolor\":\"white\",\"ticks\":\"\",\"title\":{\"standoff\":15},\"zerolinecolor\":\"white\",\"zerolinewidth\":2}}},\"title\":{\"text\":\"Stacked Subplots\"},\"xaxis\":{\"anchor\":\"y\",\"domain\":[0.0,1.0]},\"yaxis\":{\"anchor\":\"x\",\"domain\":[0.0,1.0]}},                        {\"responsive\": true}                    ).then(function(){\n",
       "                            \n",
       "var gd = document.getElementById('6d25583d-9961-41be-aaba-a1d6d261fa4a');\n",
       "var x = new MutationObserver(function (mutations, observer) {{\n",
       "        var display = window.getComputedStyle(gd).display;\n",
       "        if (!display || display === 'none') {{\n",
       "            console.log([gd, 'removed!']);\n",
       "            Plotly.purge(gd);\n",
       "            observer.disconnect();\n",
       "        }}\n",
       "}});\n",
       "\n",
       "// Listen for the removal of the full notebook cells\n",
       "var notebookContainer = gd.closest('#notebook-container');\n",
       "if (notebookContainer) {{\n",
       "    x.observe(notebookContainer, {childList: true});\n",
       "}}\n",
       "\n",
       "// Listen for the clearing of the current output cell\n",
       "var outputEl = gd.closest('.output');\n",
       "if (outputEl) {{\n",
       "    x.observe(outputEl, {childList: true});\n",
       "}}\n",
       "\n",
       "                        })                };                });            </script>        </div>"
      ]
     },
     "metadata": {},
     "output_type": "display_data"
    },
    {
     "name": "stdout",
     "output_type": "stream",
     "text": [
      "slope: 3.384450448453916\n",
      "length_of_stim: 20.371999\n"
     ]
    }
   ],
   "source": [
    "from plotly.subplots import make_subplots\n",
    "import plotly.graph_objects as go\n",
    "\n",
    "# yaw sup\n",
    "#des_ax = 2\n",
    "#des_ss = 2\n",
    "\n",
    "# LR sup\n",
    "des_ax = 0\n",
    "des_ss = 2\n",
    "\n",
    "time = make_a_properlist(df_test.time[(df_test.ax == des_ax) & (df_test.ss == des_ss)].to_numpy()[0])\n",
    "sig0 = make_a_properlist(df_test.sig0[(df_test.ax == des_ax) & (df_test.ss == des_ss)].to_numpy()[0])\n",
    "sig1 = make_a_properlist(df_test.sig1[(df_test.ax == des_ax) & (df_test.ss == des_ss)].to_numpy()[0])\n",
    "sig2 = make_a_properlist(df_test.sig2[(df_test.ax == des_ax) & (df_test.ss == des_ss)].to_numpy()[0])\n",
    "\n",
    "fig = make_subplots(rows=1, cols=1)\n",
    "\n",
    "dp = np.array(range(len(sig0)))\n",
    "fig.add_trace(go.Scatter(x=time, y=sig0, name='sig0', line = dict(color='red', width=2, dash='solid'), showlegend=True), row=1, col=1)\n",
    "fig.add_trace(go.Scatter(x=time, y=sig1, name='sig1', line = dict(color='green', width=2, dash='solid'), showlegend=True), row=1, col=1)\n",
    "fig.add_trace(go.Scatter(x=time, y=sig2, name='sig2', line = dict(color='blue', width=2, dash='solid'), showlegend=True), row=1, col=1)\n",
    "\n",
    "fig.update_layout(title_text=\"Stacked Subplots\")\n",
    "fig.show()\n",
    "\n",
    "\n",
    "# For the paper, we need to report : \n",
    "\n",
    "\n",
    "# 1) when the slope stops due to robotic constraints\n",
    "\n",
    "\n",
    "# 2) possibly the slope of the ramp (it should match the exp values)\n",
    "if des_ax == 0:\n",
    "    slope, b_inter = np.polyfit(time, sig0, 1)\n",
    "    length_of_stim = time[np.argmax(np.abs(sig0))]\n",
    "elif des_ax == 1:\n",
    "    slope, b_inter = np.polyfit(time, sig1, 1)\n",
    "    length_of_stim = time[np.argmax(np.abs(sig1))]\n",
    "elif des_ax == 2:\n",
    "    slope, b_inter = np.polyfit(time, sig2, 1)\n",
    "    length_of_stim = time[np.argmax(np.abs(sig2))]\n",
    "print('slope:', slope)\n",
    "print('length_of_stim:', length_of_stim)\n",
    "\n",
    "\n",
    "\n",
    "# Rotation\n",
    "\n",
    "#des_ax = 2\n",
    "#des_ss = -1\n",
    "#slope: -0.4920197105191497\n",
    "#length_of_stim: 19.600001\n",
    "\n",
    "#des_ax = 2\n",
    "#des_ss = -2\n",
    "#slope: -1.2300468880149442\n",
    "#length_of_stim: 19.600001\n",
    "\n",
    "#des_ax = 2\n",
    "#des_ss = 2\n",
    "#slope: 1.4704883548886225\n",
    "#length_of_stim: 19.8\n"
   ]
  },
  {
   "cell_type": "code",
   "execution_count": 99,
   "id": "af1e416b",
   "metadata": {},
   "outputs": [
    {
     "data": {
      "text/plain": [
       "19.600001"
      ]
     },
     "execution_count": 99,
     "metadata": {},
     "output_type": "execute_result"
    }
   ],
   "source": []
  },
  {
   "cell_type": "code",
   "execution_count": null,
   "id": "2065ccfc",
   "metadata": {},
   "outputs": [],
   "source": []
  }
 ],
 "metadata": {
  "kernelspec": {
   "display_name": "Python 3 (ipykernel)",
   "language": "python",
   "name": "python3"
  },
  "language_info": {
   "codemirror_mode": {
    "name": "ipython",
    "version": 3
   },
   "file_extension": ".py",
   "mimetype": "text/x-python",
   "name": "python",
   "nbconvert_exporter": "python",
   "pygments_lexer": "ipython3",
   "version": "3.9.6"
  }
 },
 "nbformat": 4,
 "nbformat_minor": 5
}
